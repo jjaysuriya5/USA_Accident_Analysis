{
 "cells": [
  {
   "cell_type": "code",
   "execution_count": 6,
   "metadata": {},
   "outputs": [],
   "source": [
    "from sklearn.base import BaseEstimator, TransformerMixin \n",
    "import pandas as pd"
   ]
  },
  {
   "cell_type": "code",
   "execution_count": 7,
   "metadata": {},
   "outputs": [],
   "source": [
    "#Custom Transformer that extracts columns passed as argument to its constructor x`\n",
    "\n",
    "class FeatureSelector( BaseEstimator, TransformerMixin ):\n",
    "\n",
    "    def __init__( self, feature_names ):\n",
    "        self._feature_names = feature_names \n",
    "     \n",
    "    def fit( self, X, y = None ):\n",
    "        return self \n",
    "\n",
    "    def transform( self, X, y = None ):\n",
    "        return X[ self._feature_names ] "
   ]
  },
  {
   "cell_type": "code",
   "execution_count": 8,
   "metadata": {},
   "outputs": [],
   "source": [
    "class Encoding(BaseEstimator, TransformerMixin):\n",
    "    def __init__(self , categorical_columns ):\n",
    "        import pandas as pd\n",
    "        self.col = categorical_columns\n",
    "    \n",
    "    def transform( self , data ):\n",
    "        import pandas as pd\n",
    "        \n",
    "        self.data = pd.DataFrame( data , columns = self.col ) \n",
    "        part_of_day_mapping = {'Early Morning' : 1 , 'Evening' : 2 , 'Morning' : 3 , \n",
    "                                   'Noon' : 4 , 'Late Night' : 5 , 'Night' : 6 }\n",
    "        Side_mapping = { 'R' : 1 , 'L' : 0 }\n",
    "\n",
    "        self.data['City'] = self.data['City'].apply( lambda x : self.City_mapping.get(x, 0 ) )\n",
    "        self.data['County'] = self.data['County'].apply( lambda x : self.County_mapping.get(x, 0 ) )\n",
    "        self.data['State'] = self.data['State'].apply( lambda x : self.State_mapping.get(x, 0 ) )\n",
    "        self.data['Street'] = self.data['Street'].apply( lambda x : self.Street_mapping.get(x, 0 ) )\n",
    "        self.data['Timezone'] = self.data['Timezone'].apply( lambda x : self.Timezone_mapping.get(x, 0 ) )\n",
    "        self.data['Airport_Code'] = self.data['Airport_Code'].apply( lambda x : self.Airport_Code_mapping.get(x, 0 ) )\n",
    "        self.data['Wind_Direction'] = self.data['Wind_Direction'].apply( lambda x : self.Wind_Direction_mapping.get(x, 0 ) )\n",
    "        self.data['Weather_Condition'] = self.data['Weather_Condition'].apply( lambda x : self.Weather_Condition_mapping.get(x, 0 ) )\n",
    "        self.data['part_of_day'] = self.data['part_of_day'].apply( lambda x : part_of_day_mapping.get(x, 0 ) )\n",
    "        self.data['Side'] = self.data['Side'].apply( lambda x : Side_mapping.get(x, 0 ) )\n",
    "        \n",
    "        for col in ['Amenity','Bump','Crossing','Give_Way','Junction','Railway','Roundabout','Station','Stop','Traffic_Signal','Turning_Loop']:\n",
    "            self.data[col] = self.data[col].astype(int)\n",
    "   \n",
    "        if 'Severity' in self.data.columns:\n",
    "            return self.data.drop( 'Severity' , axis = 1 )\n",
    "        else:\n",
    "            return self.data\n",
    "    \n",
    "    def fit(self, data, y=None, **fit_params):\n",
    "        import pandas as pd\n",
    "        \n",
    "        import pandas as pd\n",
    "        data = pd.DataFrame( data , columns = self.col )\n",
    "        data['Severity'] = data['Severity'].astype('int')\n",
    "        self.Airport_Code_mapping = data.groupby('Airport_Code')['Severity'].mean().to_dict()\n",
    "        self.Timezone_mapping = data.groupby('Timezone')['Severity'].count().to_dict()\n",
    "        self.City_mapping = data.groupby('City')['Severity'].mean().to_dict()\n",
    "        self.County_mapping = data.groupby('County')['Severity'].mean().to_dict()\n",
    "        self.State_mapping = data.groupby('State')['Severity'].mean().to_dict()\n",
    "        self.Street_mapping = data.groupby('Street')['Severity'].mean().to_dict()\n",
    "        self.Wind_Direction_mapping =data.groupby('Wind_Direction')['Severity'].count().to_dict()\n",
    "        self.Weather_Condition_mapping = data.groupby('Weather_Condition')['Severity'].count().to_dict()\n",
    "        \n",
    "        return self"
   ]
  }
 ],
 "metadata": {
  "kernelspec": {
   "display_name": "Python 3",
   "language": "python",
   "name": "python3"
  },
  "language_info": {
   "codemirror_mode": {
    "name": "ipython",
    "version": 3
   },
   "file_extension": ".py",
   "mimetype": "text/x-python",
   "name": "python",
   "nbconvert_exporter": "python",
   "pygments_lexer": "ipython3",
   "version": "3.7.3"
  }
 },
 "nbformat": 4,
 "nbformat_minor": 2
}
